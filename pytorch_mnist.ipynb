{
 "cells": [
  {
   "cell_type": "markdown",
   "id": "51fc2750-fe88-4a1c-8935-97d15f00430b",
   "metadata": {},
   "source": [
    "### In this Notebook I develop a first model on MNIST dataset using plain PyTorch"
   ]
  },
  {
   "cell_type": "code",
   "execution_count": 1,
   "id": "307a49ae-8764-4a7e-b924-eb835af0302d",
   "metadata": {},
   "outputs": [],
   "source": [
    "import torch\n",
    "from torch import nn\n",
    "from torch.nn import functional as F\n",
    "from torch.utils.data import DataLoader\n",
    "from torch.utils.data import random_split\n",
    "\n",
    "import torch.optim as optim\n",
    "from torchvision.datasets import MNIST\n",
    "from torchvision import transforms\n",
    "\n",
    "import matplotlib.pyplot as plt"
   ]
  },
  {
   "cell_type": "code",
   "execution_count": 2,
   "id": "a44905a9-f235-4d15-a9f0-8d1c1f0ae52c",
   "metadata": {},
   "outputs": [],
   "source": [
    "# globals\n",
    "BATCH_SIZE = 64"
   ]
  },
  {
   "cell_type": "code",
   "execution_count": 3,
   "id": "256a1036-8623-4bf8-9165-5c93b4290dde",
   "metadata": {},
   "outputs": [],
   "source": [
    "# data\n",
    "dataset = MNIST('', train=True, download=True, transform=transforms.ToTensor())\n",
    "\n",
    "mnist_train, mnist_val = random_split(dataset, [55000, 5000])\n",
    "\n",
    "train_loader = DataLoader(mnist_train, batch_size=BATCH_SIZE)\n",
    "val_loader = DataLoader(mnist_val, batch_size=BATCH_SIZE)"
   ]
  },
  {
   "cell_type": "code",
   "execution_count": 4,
   "id": "3aef0c19-e815-4bf6-81e0-185975772916",
   "metadata": {},
   "outputs": [
    {
     "name": "stdout",
     "output_type": "stream",
     "text": [
      "torch.Size([64, 1, 28, 28])\n"
     ]
    }
   ],
   "source": [
    "# have a look at inputs\n",
    "\n",
    "for i, batch in enumerate(train_loader):\n",
    "    inputs, targets = batch\n",
    "    \n",
    "    print(inputs.shape)\n",
    "    \n",
    "    if i == 0:\n",
    "        break"
   ]
  },
  {
   "cell_type": "code",
   "execution_count": 5,
   "id": "3150c96b-a3d1-4d1e-8c8d-38b269305650",
   "metadata": {},
   "outputs": [],
   "source": [
    "# now let's define a simple network to train on MNIST\n",
    "N_INPUT = 28*28*1\n",
    "N_CLASSES = 10\n",
    "\n",
    "class SimpleNet(nn.Module):\n",
    "    def __init__(self):\n",
    "        super(SimpleNet, self).__init__()\n",
    "        self.fc1 = nn.Linear(N_INPUT, 84)\n",
    "        self.fc2 = nn.Linear(84, 50)\n",
    "        self.fc3 = nn.Linear(50,N_CLASSES)\n",
    "    \n",
    "    def forward(self, x):\n",
    "        x = x.view(-1, N_INPUT)\n",
    "        x = F.relu(self.fc1(x))\n",
    "        x = F.relu(self.fc2(x))\n",
    "        # network produces Logits\n",
    "        x = self.fc3(x)\n",
    "        \n",
    "        return x"
   ]
  },
  {
   "cell_type": "code",
   "execution_count": 6,
   "id": "6ddb9ed0-48d0-47f8-abae-891fb3450e8c",
   "metadata": {},
   "outputs": [],
   "source": [
    "simplenet = SimpleNet()\n",
    "\n",
    "optimizer = optim.Adam(simplenet.parameters(), lr=0.001)"
   ]
  },
  {
   "cell_type": "code",
   "execution_count": 7,
   "id": "803c75c9-fde4-461d-a3cc-480fe0a6c213",
   "metadata": {},
   "outputs": [],
   "source": [
    "# custom train loop\n",
    "\n",
    "history = []\n",
    "\n",
    "def train(model, optimizer, loss_fn, train_loader, val_loader, epochs=5, device=\"cpu\"):\n",
    "    for epoch in range(1, epochs+1):\n",
    "        training_loss = 0.0\n",
    "        valid_loss = 0.0\n",
    "        \n",
    "        model.train()\n",
    "        \n",
    "        for batch in train_loader:\n",
    "            optimizer.zero_grad()\n",
    "            inputs, targets = batch\n",
    "            \n",
    "            # portiamo dati sulla GPU, se disponibile\n",
    "            inputs = inputs.to(device)\n",
    "            targets = targets.to(device)\n",
    "            output = model(inputs)\n",
    "            \n",
    "            loss = loss_fn(output, targets)\n",
    "            \n",
    "            # back propagation\n",
    "            loss.backward()\n",
    "            optimizer.step()\n",
    "            \n",
    "            training_loss += loss.data.item() * inputs.size(0)\n",
    "        # compute the average\n",
    "        training_loss /= len(train_loader.dataset)\n",
    "        \n",
    "        model.eval()\n",
    "        \n",
    "        num_correct = 0 \n",
    "        num_examples = 0\n",
    "        \n",
    "        for batch in val_loader:\n",
    "            inputs, targets = batch\n",
    "            inputs = inputs.to(device)\n",
    "            \n",
    "            output = model(inputs)\n",
    "            \n",
    "            targets = targets.to(device)\n",
    "            \n",
    "            loss = loss_fn(output,targets) \n",
    "            valid_loss += loss.data.item() * inputs.size(0)\n",
    "            \n",
    "            # compute accuracy on validation set\n",
    "            correct = torch.eq(torch.max(F.softmax(output, dim=1), dim=1)[1], targets)\n",
    "            num_correct += torch.sum(correct).item()\n",
    "            num_examples += correct.shape[0]\n",
    "        valid_loss /= len(val_loader.dataset)\n",
    "\n",
    "        accuracy = num_correct / num_examples\n",
    "        \n",
    "        print('Epoch: {}, Training Loss: {:.2f}, Validation Loss: {:.2f}, accuracy = {:.2f}'.format(epoch, training_loss,\n",
    "                                                                                                    valid_loss, accuracy))\n",
    "        # for history during epochs\n",
    "        metrics = {}\n",
    "        metrics['loss'] = training_loss\n",
    "        metrics['valid_loss'] = valid_loss\n",
    "        metrics['accuracy'] = accuracy\n",
    "        \n",
    "        history.append(metrics)\n",
    "        \n",
    "    return history"
   ]
  },
  {
   "cell_type": "code",
   "execution_count": 8,
   "id": "aafe3cba-b345-444e-be98-db30e6970cdb",
   "metadata": {},
   "outputs": [
    {
     "name": "stdout",
     "output_type": "stream",
     "text": [
      "Epoch: 1, Training Loss: 0.38, Validation Loss: 0.21, accuracy = 0.94\n",
      "Epoch: 2, Training Loss: 0.17, Validation Loss: 0.16, accuracy = 0.95\n",
      "Epoch: 3, Training Loss: 0.12, Validation Loss: 0.13, accuracy = 0.96\n",
      "Epoch: 4, Training Loss: 0.09, Validation Loss: 0.13, accuracy = 0.96\n",
      "Epoch: 5, Training Loss: 0.07, Validation Loss: 0.12, accuracy = 0.96\n",
      "Epoch: 6, Training Loss: 0.06, Validation Loss: 0.12, accuracy = 0.97\n",
      "Epoch: 7, Training Loss: 0.05, Validation Loss: 0.11, accuracy = 0.97\n",
      "Epoch: 8, Training Loss: 0.04, Validation Loss: 0.12, accuracy = 0.97\n",
      "Epoch: 9, Training Loss: 0.03, Validation Loss: 0.12, accuracy = 0.97\n",
      "Epoch: 10, Training Loss: 0.02, Validation Loss: 0.13, accuracy = 0.97\n"
     ]
    }
   ],
   "source": [
    "history = train(simplenet, optimizer,torch.nn.CrossEntropyLoss(), train_loader, val_loader, epochs=10, device='cpu')"
   ]
  },
  {
   "cell_type": "code",
   "execution_count": null,
   "id": "591b08c5-bd10-4457-83e5-73cd14cbe70a",
   "metadata": {},
   "outputs": [],
   "source": [
    "history"
   ]
  },
  {
   "cell_type": "code",
   "execution_count": null,
   "id": "a4dc63d8-81ff-41e8-9619-8d1f5a69fc04",
   "metadata": {},
   "outputs": [],
   "source": [
    "# extract the data from the history list\n",
    "vet_loss = [x['loss'] for x in history]\n",
    "vet_val_loss = [x['valid_loss'] for x in history]\n",
    "\n",
    "plt.figure(figsize=(9,6))\n",
    "plt.title('Loss')\n",
    "plt.xlabel('epochs')\n",
    "plt.ylabel('loss')\n",
    "plt.plot(vet_loss, label='training loss')\n",
    "plt.plot(vet_val_loss, label='validation loss')\n",
    "plt.legend()\n",
    "plt.grid()"
   ]
  },
  {
   "cell_type": "code",
   "execution_count": null,
   "id": "c3786fa6-f74f-4c60-837b-25c9b9a81de6",
   "metadata": {},
   "outputs": [],
   "source": [
    "# extract the data from the history list\n",
    "vet_acc = [x['accuracy'] for x in history]\n",
    "\n",
    "plt.figure(figsize=(9,6))\n",
    "plt.title('Accuracy')\n",
    "plt.xlabel('epochs')\n",
    "plt.ylabel('loss')\n",
    "plt.plot(vet_acc, label='validation accuracy')\n",
    "plt.legend()\n",
    "plt.grid()"
   ]
  },
  {
   "cell_type": "code",
   "execution_count": null,
   "id": "9920a6e9-01bc-412a-8477-3139d7b76619",
   "metadata": {},
   "outputs": [],
   "source": []
  }
 ],
 "metadata": {
  "kernelspec": {
   "display_name": "Python 3",
   "language": "python",
   "name": "python3"
  },
  "language_info": {
   "codemirror_mode": {
    "name": "ipython",
    "version": 3
   },
   "file_extension": ".py",
   "mimetype": "text/x-python",
   "name": "python",
   "nbconvert_exporter": "python",
   "pygments_lexer": "ipython3",
   "version": "3.7.10"
  }
 },
 "nbformat": 4,
 "nbformat_minor": 5
}
