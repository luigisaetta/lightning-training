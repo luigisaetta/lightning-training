{
 "cells": [
  {
   "cell_type": "markdown",
   "id": "51fc2750-fe88-4a1c-8935-97d15f00430b",
   "metadata": {},
   "source": [
    "### In this Notebook I develop a model on MNIST dataset using PyTorch Lightning and a CNN"
   ]
  },
  {
   "cell_type": "code",
   "execution_count": 1,
   "id": "307a49ae-8764-4a7e-b924-eb835af0302d",
   "metadata": {},
   "outputs": [],
   "source": [
    "import torch\n",
    "from torch import nn\n",
    "from torch.nn import functional as F\n",
    "from torch.utils.data import DataLoader\n",
    "from torch.utils.data import random_split\n",
    "\n",
    "from torchmetrics import Accuracy\n",
    "\n",
    "import torch.optim as optim\n",
    "from torchvision.datasets import MNIST\n",
    "from torchvision import transforms\n",
    "\n",
    "import matplotlib.pyplot as plt\n",
    "\n",
    "import pytorch_lightning as pl\n",
    "\n",
    "from pytorch_lightning.loggers import WandbLogger"
   ]
  },
  {
   "cell_type": "code",
   "execution_count": 2,
   "id": "a44905a9-f235-4d15-a9f0-8d1c1f0ae52c",
   "metadata": {},
   "outputs": [],
   "source": [
    "# globals\n",
    "BATCH_SIZE = 64\n",
    "\n",
    "# wandb_logger = WandbLogger()"
   ]
  },
  {
   "cell_type": "code",
   "execution_count": 3,
   "id": "256a1036-8623-4bf8-9165-5c93b4290dde",
   "metadata": {},
   "outputs": [],
   "source": [
    "# data\n",
    "dataset = MNIST('', train=True, download=True, transform=transforms.ToTensor())\n",
    "\n",
    "mnist_train, mnist_val = random_split(dataset, [55000, 5000])\n",
    "\n",
    "train_loader = DataLoader(mnist_train, batch_size=BATCH_SIZE, num_workers=4)\n",
    "val_loader = DataLoader(mnist_val, batch_size=BATCH_SIZE, num_workers=4)"
   ]
  },
  {
   "cell_type": "code",
   "execution_count": 4,
   "id": "3aef0c19-e815-4bf6-81e0-185975772916",
   "metadata": {},
   "outputs": [
    {
     "name": "stdout",
     "output_type": "stream",
     "text": [
      "torch.Size([64, 1, 28, 28])\n"
     ]
    }
   ],
   "source": [
    "# have a look at inputs\n",
    "\n",
    "for i, batch in enumerate(train_loader):\n",
    "    inputs, targets = batch\n",
    "    \n",
    "    print(inputs.shape)\n",
    "    \n",
    "    if i == 0:\n",
    "        break"
   ]
  },
  {
   "cell_type": "code",
   "execution_count": 5,
   "id": "3150c96b-a3d1-4d1e-8c8d-38b269305650",
   "metadata": {},
   "outputs": [],
   "source": [
    "# now let's define a simple CNN network to train on MNIST\n",
    "\n",
    "N_INPUT = 28*28*1\n",
    "N_CLASSES = 10\n",
    "\n",
    "class CNNNet(pl.LightningModule):\n",
    "    def __init__(self):\n",
    "        super(CNNNet, self).__init__()\n",
    "        self.features = nn.Sequential(\n",
    "        nn.Conv2d(1, 32, kernel_size=3, stride=1, padding=1),\n",
    "        nn.ReLU(),\n",
    "        nn.MaxPool2d(kernel_size=3, stride=2),\n",
    "        nn.Conv2d(32, 64, kernel_size=3, stride=1, padding=1),\n",
    "        nn.ReLU(),\n",
    "        nn.MaxPool2d(kernel_size=3, stride=2))\n",
    "        \n",
    "        self.avgpool = nn.AdaptiveAvgPool2d((3,3))\n",
    "        \n",
    "        self.classifier = nn.Sequential(\n",
    "            nn.Flatten(),\n",
    "            nn.Linear(64*3*3, 128),\n",
    "            nn.Linear(128, N_CLASSES))\n",
    "        \n",
    "        # memorizzo anche la loss function\n",
    "        self.loss_fn = torch.nn.CrossEntropyLoss()\n",
    "        \n",
    "        self.metric = Accuracy()\n",
    "    \n",
    "    # this one is only used for inference\n",
    "    # better to keep it independent from training_step\n",
    "    def forward(self, x):\n",
    "        x = self.features(x)\n",
    "        x = self.avgpool(x)\n",
    "        x = self.classifier(x)\n",
    "        \n",
    "        return x\n",
    "    \n",
    "    def single_batch(self, x):\n",
    "        x = self.features(x)\n",
    "        x = self.avgpool(x)\n",
    "        x = self.classifier(x)\n",
    "        \n",
    "        return x\n",
    "    \n",
    "    def training_step(self, train_batch, batch_idx):\n",
    "        inputs, targets = train_batch\n",
    "    \n",
    "        outputs = self.single_batch(inputs)\n",
    "        \n",
    "        loss = self.loss_fn(outputs, targets)\n",
    "        \n",
    "        acc = self.metric(F.softmax(outputs, dim=1), targets)\n",
    "        \n",
    "        self.log('train_loss', loss)\n",
    "        self.log('train_accuracy', acc)\n",
    "        \n",
    "        return {\"loss\":loss, \"acc\":acc}\n",
    "    \n",
    "    def validation_step(self, val_batch, batch_idx):\n",
    "        inputs, targets = val_batch\n",
    "        \n",
    "        outputs = self.single_batch(inputs)\n",
    "        \n",
    "        loss = self.loss_fn(outputs, targets)\n",
    "        \n",
    "        val_acc = self.metric(F.softmax(outputs, dim=1), targets)\n",
    "        \n",
    "        self.log('val_loss', loss)\n",
    "        \n",
    "        # in questo modo loggo sulla progress bar\n",
    "        self.log('val_acc', val_acc, prog_bar=True)\n",
    "        \n",
    "    def configure_optimizers(self):\n",
    "        optimizer = optim.Adam(self.parameters(), lr=0.001)\n",
    "        \n",
    "        return optimizer"
   ]
  },
  {
   "cell_type": "code",
   "execution_count": 6,
   "id": "6ddb9ed0-48d0-47f8-abae-891fb3450e8c",
   "metadata": {},
   "outputs": [
    {
     "data": {
      "text/plain": [
       "CNNNet(\n",
       "  (features): Sequential(\n",
       "    (0): Conv2d(1, 32, kernel_size=(3, 3), stride=(1, 1), padding=(1, 1))\n",
       "    (1): ReLU()\n",
       "    (2): MaxPool2d(kernel_size=3, stride=2, padding=0, dilation=1, ceil_mode=False)\n",
       "    (3): Conv2d(32, 64, kernel_size=(3, 3), stride=(1, 1), padding=(1, 1))\n",
       "    (4): ReLU()\n",
       "    (5): MaxPool2d(kernel_size=3, stride=2, padding=0, dilation=1, ceil_mode=False)\n",
       "  )\n",
       "  (avgpool): AdaptiveAvgPool2d(output_size=(3, 3))\n",
       "  (classifier): Sequential(\n",
       "    (0): Flatten(start_dim=1, end_dim=-1)\n",
       "    (1): Linear(in_features=576, out_features=128, bias=True)\n",
       "    (2): Linear(in_features=128, out_features=10, bias=True)\n",
       "  )\n",
       "  (loss_fn): CrossEntropyLoss()\n",
       "  (metric): Accuracy()\n",
       ")"
      ]
     },
     "execution_count": 6,
     "metadata": {},
     "output_type": "execute_result"
    }
   ],
   "source": [
    "model = CNNNet()\n",
    "\n",
    "model"
   ]
  },
  {
   "cell_type": "code",
   "execution_count": 7,
   "id": "d439b58a-7a61-46d3-9c51-3db939c080bf",
   "metadata": {},
   "outputs": [
    {
     "name": "stdout",
     "output_type": "stream",
     "text": [
      "Input shape: torch.Size([64, 1, 28, 28])\n",
      "Output shape: torch.Size([64, 10])\n"
     ]
    }
   ],
   "source": [
    "for i, batch in enumerate(train_loader):\n",
    "    inputs, targets = batch\n",
    "    \n",
    "    print('Input shape:', inputs.shape)\n",
    "    outputs = model(inputs)\n",
    "    print('Output shape:', outputs.shape)\n",
    "    \n",
    "    if i == 0:\n",
    "        break"
   ]
  },
  {
   "cell_type": "code",
   "execution_count": 8,
   "id": "591b08c5-bd10-4457-83e5-73cd14cbe70a",
   "metadata": {},
   "outputs": [
    {
     "name": "stderr",
     "output_type": "stream",
     "text": [
      "GPU available: False, used: False\n",
      "TPU available: False, using: 0 TPU cores\n",
      "\n",
      "  | Name       | Type              | Params\n",
      "-------------------------------------------------\n",
      "0 | features   | Sequential        | 18.8 K\n",
      "1 | avgpool    | AdaptiveAvgPool2d | 0     \n",
      "2 | classifier | Sequential        | 75.1 K\n",
      "3 | loss_fn    | CrossEntropyLoss  | 0     \n",
      "4 | metric     | Accuracy          | 0     \n",
      "-------------------------------------------------\n",
      "94.0 K    Trainable params\n",
      "0         Non-trainable params\n",
      "94.0 K    Total params\n",
      "0.376     Total estimated model params size (MB)\n"
     ]
    },
    {
     "data": {
      "application/vnd.jupyter.widget-view+json": {
       "model_id": "",
       "version_major": 2,
       "version_minor": 0
      },
      "text/plain": [
       "Validation sanity check: 0it [00:00, ?it/s]"
      ]
     },
     "metadata": {},
     "output_type": "display_data"
    },
    {
     "data": {
      "application/vnd.jupyter.widget-view+json": {
       "model_id": "c602ebd9b066476fb9b31cd229c08c12",
       "version_major": 2,
       "version_minor": 0
      },
      "text/plain": [
       "Training: 0it [00:00, ?it/s]"
      ]
     },
     "metadata": {},
     "output_type": "display_data"
    },
    {
     "data": {
      "application/vnd.jupyter.widget-view+json": {
       "model_id": "",
       "version_major": 2,
       "version_minor": 0
      },
      "text/plain": [
       "Validating: 0it [00:00, ?it/s]"
      ]
     },
     "metadata": {},
     "output_type": "display_data"
    },
    {
     "data": {
      "application/vnd.jupyter.widget-view+json": {
       "model_id": "",
       "version_major": 2,
       "version_minor": 0
      },
      "text/plain": [
       "Validating: 0it [00:00, ?it/s]"
      ]
     },
     "metadata": {},
     "output_type": "display_data"
    },
    {
     "name": "stderr",
     "output_type": "stream",
     "text": [
      "/Users/lsaetta/opt/anaconda3/envs/lightning/lib/python3.7/site-packages/pytorch_lightning/utilities/distributed.py:69: UserWarning: Detected KeyboardInterrupt, attempting graceful shutdown...\n",
      "  warnings.warn(*args, **kwargs)\n"
     ]
    }
   ],
   "source": [
    "trainer = pl.Trainer(max_epochs=10, auto_lr_find=True) # , logger=wandb_logger)\n",
    "\n",
    "trainer.fit(model, train_loader, val_loader)"
   ]
  },
  {
   "cell_type": "code",
   "execution_count": null,
   "id": "d3cc798e-111c-4158-976c-cf42c38632ba",
   "metadata": {},
   "outputs": [],
   "source": [
    "trainer.validate(val_dataloaders=val_loader)"
   ]
  },
  {
   "cell_type": "code",
   "execution_count": null,
   "id": "39e91669-22d3-4539-9226-3e411b8a93e3",
   "metadata": {},
   "outputs": [],
   "source": []
  }
 ],
 "metadata": {
  "kernelspec": {
   "display_name": "Python 3",
   "language": "python",
   "name": "python3"
  },
  "language_info": {
   "codemirror_mode": {
    "name": "ipython",
    "version": 3
   },
   "file_extension": ".py",
   "mimetype": "text/x-python",
   "name": "python",
   "nbconvert_exporter": "python",
   "pygments_lexer": "ipython3",
   "version": "3.7.10"
  }
 },
 "nbformat": 4,
 "nbformat_minor": 5
}
