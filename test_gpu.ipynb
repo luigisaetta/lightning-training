{
 "cells": [
  {
   "cell_type": "markdown",
   "id": "1adad791-d5a2-4e18-8198-ad124edd7c0b",
   "metadata": {},
   "source": [
    "### This Notebook check if a GPU is available and CUDA is configured in the environment"
   ]
  },
  {
   "cell_type": "code",
   "execution_count": 1,
   "id": "b64622e3-d698-485f-a2bc-b2ed344af7be",
   "metadata": {},
   "outputs": [],
   "source": [
    "import torch"
   ]
  },
  {
   "cell_type": "code",
   "execution_count": 2,
   "id": "bf7fd464-ae28-44a4-87f9-46e49b28e18d",
   "metadata": {},
   "outputs": [
    {
     "name": "stdout",
     "output_type": "stream",
     "text": [
      "GPU (cuda) is not available!\n"
     ]
    }
   ],
   "source": [
    "# test if GPU is available\n",
    "# this code is OK only for a single GPU... see other NOtebooks for multiple GPU environments\n",
    "\n",
    "if torch.cuda.is_available():\n",
    "    print('GPU (cuda) is available!')\n",
    "    print('The GPU type is:',torch.cuda.get_device_name(0))\n",
    "    \n",
    "    device = torch.device(\"cuda\") \n",
    "else:\n",
    "    print('GPU (cuda) is not available!')\n",
    "    \n",
    "    device = torch.device(\"cpu\")"
   ]
  },
  {
   "cell_type": "code",
   "execution_count": 3,
   "id": "56f00d5b-781f-490b-961d-b172322d37f0",
   "metadata": {},
   "outputs": [
    {
     "name": "stdout",
     "output_type": "stream",
     "text": [
      "The available device is: cpu\n"
     ]
    }
   ],
   "source": [
    "print('The available device is:', device)"
   ]
  },
  {
   "cell_type": "code",
   "execution_count": 4,
   "id": "0fffa6ab-1921-4302-bce8-d01ea2fcbf50",
   "metadata": {},
   "outputs": [
    {
     "data": {
      "text/plain": [
       "tensor([[1, 1],\n",
       "        [2, 2]])"
      ]
     },
     "execution_count": 4,
     "metadata": {},
     "output_type": "execute_result"
    }
   ],
   "source": [
    "# this code now can be used to move tensor on the device correctly if GPU is available\n",
    "\n",
    "t1 = torch.tensor([[1,1], [2,2]])\n",
    "\n",
    "t1 = t1.to(device)\n",
    "\n",
    "t1"
   ]
  },
  {
   "cell_type": "code",
   "execution_count": 5,
   "id": "d72a255e-8706-49cf-8042-352e30a8a2f3",
   "metadata": {},
   "outputs": [
    {
     "data": {
      "text/plain": [
       "tensor([[1, 1],\n",
       "        [2, 2]])"
      ]
     },
     "execution_count": 5,
     "metadata": {},
     "output_type": "execute_result"
    }
   ],
   "source": [
    "t1"
   ]
  },
  {
   "cell_type": "code",
   "execution_count": 6,
   "id": "889bf2a9-42a8-4ff3-ba33-555a0f8c7b6f",
   "metadata": {},
   "outputs": [
    {
     "data": {
      "text/plain": [
       "array([[1, 1],\n",
       "       [2, 2]])"
      ]
     },
     "execution_count": 6,
     "metadata": {},
     "output_type": "execute_result"
    }
   ],
   "source": [
    "# to get the numpy array:\n",
    "\n",
    "t1.numpy()"
   ]
  },
  {
   "cell_type": "code",
   "execution_count": null,
   "id": "530e573f-5564-4a82-8a17-97ca670d5463",
   "metadata": {},
   "outputs": [],
   "source": []
  },
  {
   "cell_type": "code",
   "execution_count": null,
   "id": "d7357f8b-70ca-4d04-bf37-3d3790675ec4",
   "metadata": {},
   "outputs": [],
   "source": []
  }
 ],
 "metadata": {
  "kernelspec": {
   "display_name": "Python 3",
   "language": "python",
   "name": "python3"
  },
  "language_info": {
   "codemirror_mode": {
    "name": "ipython",
    "version": 3
   },
   "file_extension": ".py",
   "mimetype": "text/x-python",
   "name": "python",
   "nbconvert_exporter": "python",
   "pygments_lexer": "ipython3",
   "version": "3.7.10"
  }
 },
 "nbformat": 4,
 "nbformat_minor": 5
}
